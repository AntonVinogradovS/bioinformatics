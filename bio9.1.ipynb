{
 "cells": [
  {
   "cell_type": "code",
   "execution_count": 3,
   "metadata": {},
   "outputs": [
    {
     "name": "stdout",
     "output_type": "stream",
     "text": [
      "3->1->12->11->10->1->2->4->7->9->8->4->6->5->2->0->3->15->14->13->3\n"
     ]
    }
   ],
   "source": [
    "\n",
    "import collections\n",
    "\n",
    "def EulerianCycle(graph): \n",
    "    [starting] = collections.deque(graph, maxlen=1)\n",
    "    startМ=[]\n",
    "    tt = list(graph.keys())\n",
    "    ttt = tt[int(starting)]\n",
    "    startМ.append(ttt)\n",
    "\n",
    "    Mystack = [startМ[0]] \n",
    "    res= []\n",
    "    while len(Mystack) != 0:\n",
    "        beginning = Mystack[-1] \n",
    "        if graph[beginning] != []:  \n",
    "            Mystack.append(graph[beginning][0]) \n",
    "            del graph[beginning][0]    \n",
    "        else:\n",
    "            res.append(Mystack[-1])\n",
    "            del Mystack[-1]\n",
    "            #Mystack = list(reversed(Mystack))\n",
    "            #break\n",
    "\n",
    "        \n",
    "    return res\n",
    "\n",
    "\n",
    "\n",
    "#s = '''0 -> 3\n",
    "#1 -> 0\n",
    "#2 -> 1,6\n",
    "#3 -> 2\n",
    "#4 -> 2\n",
    "#5 -> 4\n",
    "#6 -> 5,8\n",
    "#7 -> 9\n",
    "#8 -> 7\n",
    "#9 -> 6'''\n",
    "s = '''0 -> 3\n",
    "1 -> 12,2\n",
    "10 -> 1\n",
    "11 -> 10\n",
    "12 -> 11\n",
    "13 -> 3\n",
    "14 -> 13\n",
    "15 -> 14\n",
    "2 -> 0,4\n",
    "3 -> 1,15\n",
    "4 -> 6,7\n",
    "5 -> 2\n",
    "6 -> 5\n",
    "7 -> 9\n",
    "8 -> 4\n",
    "9 -> 8'''\n",
    "#s = []\n",
    "#while True:\n",
    "#    try:\n",
    "#        s.append(input())\n",
    "#    except EOFError:\n",
    "#        break\n",
    "s = s.split('\\n')\n",
    "graph = {}\n",
    "for i in s:\n",
    "    temp= i.split(\" -> \")\n",
    "    graph[temp[0]]=temp[1].split(',')\n",
    "#print(graph)\n",
    "\n",
    "final=(EulerianCycle(graph))\n",
    "print( '->'.join(reversed(final)))"
   ]
  }
 ],
 "metadata": {
  "kernelspec": {
   "display_name": "Python 3",
   "language": "python",
   "name": "python3"
  },
  "language_info": {
   "codemirror_mode": {
    "name": "ipython",
    "version": 3
   },
   "file_extension": ".py",
   "mimetype": "text/x-python",
   "name": "python",
   "nbconvert_exporter": "python",
   "pygments_lexer": "ipython3",
   "version": "3.10.9"
  },
  "orig_nbformat": 4,
  "vscode": {
   "interpreter": {
    "hash": "dbad98d5a832ae8bd29995ac4de77ba3f8a5b496de655f371f4f512f65d1f954"
   }
  }
 },
 "nbformat": 4,
 "nbformat_minor": 2
}
